{
 "cells": [
  {
   "cell_type": "code",
   "execution_count": 1,
   "id": "8d0043ac",
   "metadata": {
    "_cell_guid": "b1076dfc-b9ad-4769-8c92-a6c4dae69d19",
    "_uuid": "8f2839f25d086af736a60e9eeb907d3b93b6e0e5",
    "execution": {
     "iopub.execute_input": "2023-09-01T08:59:59.378019Z",
     "iopub.status.busy": "2023-09-01T08:59:59.377446Z",
     "iopub.status.idle": "2023-09-01T09:00:02.586549Z",
     "shell.execute_reply": "2023-09-01T09:00:02.584994Z"
    },
    "papermill": {
     "duration": 3.226358,
     "end_time": "2023-09-01T09:00:02.589745",
     "exception": false,
     "start_time": "2023-09-01T08:59:59.363387",
     "status": "completed"
    },
    "tags": []
   },
   "outputs": [
    {
     "name": "stdout",
     "output_type": "stream",
     "text": [
      "[nltk_data] Downloading package punkt to /usr/share/nltk_data...\n",
      "[nltk_data]   Package punkt is already up-to-date!\n",
      "[nltk_data] Downloading package stopwords to /usr/share/nltk_data...\n",
      "[nltk_data]   Package stopwords is already up-to-date!\n",
      "[nltk_data] Downloading package wordnet to /usr/share/nltk_data...\n",
      "[nltk_data]   Package wordnet is already up-to-date!\n"
     ]
    },
    {
     "data": {
      "text/plain": [
       "True"
      ]
     },
     "execution_count": 1,
     "metadata": {},
     "output_type": "execute_result"
    }
   ],
   "source": [
    "import numpy as np\n",
    "import pandas as pd\n",
    "import nltk\n",
    "nltk.download('punkt')\n",
    "nltk.download('stopwords')\n",
    "nltk.download('wordnet')"
   ]
  },
  {
   "cell_type": "code",
   "execution_count": 2,
   "id": "86cdf2f5",
   "metadata": {
    "execution": {
     "iopub.execute_input": "2023-09-01T09:00:02.615284Z",
     "iopub.status.busy": "2023-09-01T09:00:02.614109Z",
     "iopub.status.idle": "2023-09-01T09:00:02.653290Z",
     "shell.execute_reply": "2023-09-01T09:00:02.652061Z"
    },
    "papermill": {
     "duration": 0.054079,
     "end_time": "2023-09-01T09:00:02.655685",
     "exception": false,
     "start_time": "2023-09-01T09:00:02.601606",
     "status": "completed"
    },
    "tags": []
   },
   "outputs": [
    {
     "data": {
      "text/html": [
       "<div>\n",
       "<style scoped>\n",
       "    .dataframe tbody tr th:only-of-type {\n",
       "        vertical-align: middle;\n",
       "    }\n",
       "\n",
       "    .dataframe tbody tr th {\n",
       "        vertical-align: top;\n",
       "    }\n",
       "\n",
       "    .dataframe thead th {\n",
       "        text-align: right;\n",
       "    }\n",
       "</style>\n",
       "<table border=\"1\" class=\"dataframe\">\n",
       "  <thead>\n",
       "    <tr style=\"text-align: right;\">\n",
       "      <th></th>\n",
       "      <th>id</th>\n",
       "      <th>target</th>\n",
       "    </tr>\n",
       "  </thead>\n",
       "  <tbody>\n",
       "    <tr>\n",
       "      <th>0</th>\n",
       "      <td>0</td>\n",
       "      <td>0</td>\n",
       "    </tr>\n",
       "    <tr>\n",
       "      <th>1</th>\n",
       "      <td>2</td>\n",
       "      <td>0</td>\n",
       "    </tr>\n",
       "    <tr>\n",
       "      <th>2</th>\n",
       "      <td>3</td>\n",
       "      <td>0</td>\n",
       "    </tr>\n",
       "    <tr>\n",
       "      <th>3</th>\n",
       "      <td>9</td>\n",
       "      <td>0</td>\n",
       "    </tr>\n",
       "    <tr>\n",
       "      <th>4</th>\n",
       "      <td>11</td>\n",
       "      <td>0</td>\n",
       "    </tr>\n",
       "  </tbody>\n",
       "</table>\n",
       "</div>"
      ],
      "text/plain": [
       "   id  target\n",
       "0   0       0\n",
       "1   2       0\n",
       "2   3       0\n",
       "3   9       0\n",
       "4  11       0"
      ]
     },
     "execution_count": 2,
     "metadata": {},
     "output_type": "execute_result"
    }
   ],
   "source": [
    "tweets = pd.read_csv('/kaggle/input/nlp-getting-started/sample_submission.csv', encoding = 'latin-1')\n",
    "tweets.head()"
   ]
  },
  {
   "cell_type": "code",
   "execution_count": 3,
   "id": "59b163ca",
   "metadata": {
    "execution": {
     "iopub.execute_input": "2023-09-01T09:00:02.681033Z",
     "iopub.status.busy": "2023-09-01T09:00:02.680604Z",
     "iopub.status.idle": "2023-09-01T09:00:02.754603Z",
     "shell.execute_reply": "2023-09-01T09:00:02.753234Z"
    },
    "papermill": {
     "duration": 0.091083,
     "end_time": "2023-09-01T09:00:02.758746",
     "exception": false,
     "start_time": "2023-09-01T09:00:02.667663",
     "status": "completed"
    },
    "tags": []
   },
   "outputs": [],
   "source": [
    "train_data=pd.read_csv(\"/kaggle/input/nlp-getting-started/train.csv\",encoding='latin-1')\n",
    "test_data=pd.read_csv(\"/kaggle/input/nlp-getting-started/test.csv\",encoding='latin-1')"
   ]
  },
  {
   "cell_type": "code",
   "execution_count": 4,
   "id": "58407e77",
   "metadata": {
    "execution": {
     "iopub.execute_input": "2023-09-01T09:00:02.789634Z",
     "iopub.status.busy": "2023-09-01T09:00:02.788283Z",
     "iopub.status.idle": "2023-09-01T09:00:02.800172Z",
     "shell.execute_reply": "2023-09-01T09:00:02.799372Z"
    },
    "papermill": {
     "duration": 0.028121,
     "end_time": "2023-09-01T09:00:02.802476",
     "exception": false,
     "start_time": "2023-09-01T09:00:02.774355",
     "status": "completed"
    },
    "tags": []
   },
   "outputs": [
    {
     "data": {
      "text/html": [
       "<div>\n",
       "<style scoped>\n",
       "    .dataframe tbody tr th:only-of-type {\n",
       "        vertical-align: middle;\n",
       "    }\n",
       "\n",
       "    .dataframe tbody tr th {\n",
       "        vertical-align: top;\n",
       "    }\n",
       "\n",
       "    .dataframe thead th {\n",
       "        text-align: right;\n",
       "    }\n",
       "</style>\n",
       "<table border=\"1\" class=\"dataframe\">\n",
       "  <thead>\n",
       "    <tr style=\"text-align: right;\">\n",
       "      <th></th>\n",
       "      <th>id</th>\n",
       "      <th>keyword</th>\n",
       "      <th>location</th>\n",
       "      <th>text</th>\n",
       "      <th>target</th>\n",
       "    </tr>\n",
       "  </thead>\n",
       "  <tbody>\n",
       "    <tr>\n",
       "      <th>0</th>\n",
       "      <td>1</td>\n",
       "      <td>NaN</td>\n",
       "      <td>NaN</td>\n",
       "      <td>Our Deeds are the Reason of this #earthquake M...</td>\n",
       "      <td>1</td>\n",
       "    </tr>\n",
       "    <tr>\n",
       "      <th>1</th>\n",
       "      <td>4</td>\n",
       "      <td>NaN</td>\n",
       "      <td>NaN</td>\n",
       "      <td>Forest fire near La Ronge Sask. Canada</td>\n",
       "      <td>1</td>\n",
       "    </tr>\n",
       "    <tr>\n",
       "      <th>2</th>\n",
       "      <td>5</td>\n",
       "      <td>NaN</td>\n",
       "      <td>NaN</td>\n",
       "      <td>All residents asked to 'shelter in place' are ...</td>\n",
       "      <td>1</td>\n",
       "    </tr>\n",
       "    <tr>\n",
       "      <th>3</th>\n",
       "      <td>6</td>\n",
       "      <td>NaN</td>\n",
       "      <td>NaN</td>\n",
       "      <td>13,000 people receive #wildfires evacuation or...</td>\n",
       "      <td>1</td>\n",
       "    </tr>\n",
       "    <tr>\n",
       "      <th>4</th>\n",
       "      <td>7</td>\n",
       "      <td>NaN</td>\n",
       "      <td>NaN</td>\n",
       "      <td>Just got sent this photo from Ruby #Alaska as ...</td>\n",
       "      <td>1</td>\n",
       "    </tr>\n",
       "  </tbody>\n",
       "</table>\n",
       "</div>"
      ],
      "text/plain": [
       "   id keyword location                                               text  \\\n",
       "0   1     NaN      NaN  Our Deeds are the Reason of this #earthquake M...   \n",
       "1   4     NaN      NaN             Forest fire near La Ronge Sask. Canada   \n",
       "2   5     NaN      NaN  All residents asked to 'shelter in place' are ...   \n",
       "3   6     NaN      NaN  13,000 people receive #wildfires evacuation or...   \n",
       "4   7     NaN      NaN  Just got sent this photo from Ruby #Alaska as ...   \n",
       "\n",
       "   target  \n",
       "0       1  \n",
       "1       1  \n",
       "2       1  \n",
       "3       1  \n",
       "4       1  "
      ]
     },
     "execution_count": 4,
     "metadata": {},
     "output_type": "execute_result"
    }
   ],
   "source": [
    "train_data.head()"
   ]
  },
  {
   "cell_type": "code",
   "execution_count": 5,
   "id": "9eedba6d",
   "metadata": {
    "execution": {
     "iopub.execute_input": "2023-09-01T09:00:02.830258Z",
     "iopub.status.busy": "2023-09-01T09:00:02.829568Z",
     "iopub.status.idle": "2023-09-01T09:00:02.835339Z",
     "shell.execute_reply": "2023-09-01T09:00:02.834516Z"
    },
    "papermill": {
     "duration": 0.022444,
     "end_time": "2023-09-01T09:00:02.837846",
     "exception": false,
     "start_time": "2023-09-01T09:00:02.815402",
     "status": "completed"
    },
    "tags": []
   },
   "outputs": [
    {
     "data": {
      "text/plain": [
       "((7613, 5), (3263, 4))"
      ]
     },
     "execution_count": 5,
     "metadata": {},
     "output_type": "execute_result"
    }
   ],
   "source": [
    "train_data.shape,test_data.shape"
   ]
  },
  {
   "cell_type": "code",
   "execution_count": 6,
   "id": "ae850ab2",
   "metadata": {
    "execution": {
     "iopub.execute_input": "2023-09-01T09:00:02.866012Z",
     "iopub.status.busy": "2023-09-01T09:00:02.865584Z",
     "iopub.status.idle": "2023-09-01T09:00:02.870938Z",
     "shell.execute_reply": "2023-09-01T09:00:02.869812Z"
    },
    "papermill": {
     "duration": 0.022702,
     "end_time": "2023-09-01T09:00:02.873881",
     "exception": false,
     "start_time": "2023-09-01T09:00:02.851179",
     "status": "completed"
    },
    "tags": []
   },
   "outputs": [],
   "source": [
    "train_text=train_data.text\n",
    "test_text=test_data.text"
   ]
  },
  {
   "cell_type": "code",
   "execution_count": 7,
   "id": "763e12a7",
   "metadata": {
    "execution": {
     "iopub.execute_input": "2023-09-01T09:00:02.901602Z",
     "iopub.status.busy": "2023-09-01T09:00:02.900507Z",
     "iopub.status.idle": "2023-09-01T09:00:02.905798Z",
     "shell.execute_reply": "2023-09-01T09:00:02.905005Z"
    },
    "papermill": {
     "duration": 0.021227,
     "end_time": "2023-09-01T09:00:02.908008",
     "exception": false,
     "start_time": "2023-09-01T09:00:02.886781",
     "status": "completed"
    },
    "tags": []
   },
   "outputs": [],
   "source": [
    "y=train_data.target"
   ]
  },
  {
   "cell_type": "code",
   "execution_count": 8,
   "id": "a9d9dcd8",
   "metadata": {
    "execution": {
     "iopub.execute_input": "2023-09-01T09:00:02.935484Z",
     "iopub.status.busy": "2023-09-01T09:00:02.934728Z",
     "iopub.status.idle": "2023-09-01T09:00:02.939795Z",
     "shell.execute_reply": "2023-09-01T09:00:02.938822Z"
    },
    "papermill": {
     "duration": 0.021628,
     "end_time": "2023-09-01T09:00:02.942253",
     "exception": false,
     "start_time": "2023-09-01T09:00:02.920625",
     "status": "completed"
    },
    "tags": []
   },
   "outputs": [],
   "source": [
    "import re"
   ]
  },
  {
   "cell_type": "code",
   "execution_count": 9,
   "id": "eadbdad6",
   "metadata": {
    "execution": {
     "iopub.execute_input": "2023-09-01T09:00:02.970940Z",
     "iopub.status.busy": "2023-09-01T09:00:02.970305Z",
     "iopub.status.idle": "2023-09-01T09:00:02.975766Z",
     "shell.execute_reply": "2023-09-01T09:00:02.975008Z"
    },
    "papermill": {
     "duration": 0.02209,
     "end_time": "2023-09-01T09:00:02.978001",
     "exception": false,
     "start_time": "2023-09-01T09:00:02.955911",
     "status": "completed"
    },
    "tags": []
   },
   "outputs": [],
   "source": [
    "def clean_text(text):\n",
    "    text=text.lower()\n",
    "    text=re.sub('#','',text)\n",
    "    text=re.sub('[^a-zA-Z ]','',text)\n",
    "    return text"
   ]
  },
  {
   "cell_type": "code",
   "execution_count": 10,
   "id": "a61626b3",
   "metadata": {
    "execution": {
     "iopub.execute_input": "2023-09-01T09:00:03.006567Z",
     "iopub.status.busy": "2023-09-01T09:00:03.005565Z",
     "iopub.status.idle": "2023-09-01T09:00:03.016269Z",
     "shell.execute_reply": "2023-09-01T09:00:03.015079Z"
    },
    "papermill": {
     "duration": 0.028051,
     "end_time": "2023-09-01T09:00:03.018888",
     "exception": false,
     "start_time": "2023-09-01T09:00:02.990837",
     "status": "completed"
    },
    "tags": []
   },
   "outputs": [
    {
     "data": {
      "text/plain": [
       "0    Our Deeds are the Reason of this #earthquake M...\n",
       "1               Forest fire near La Ronge Sask. Canada\n",
       "2    All residents asked to 'shelter in place' are ...\n",
       "3    13,000 people receive #wildfires evacuation or...\n",
       "4    Just got sent this photo from Ruby #Alaska as ...\n",
       "Name: text, dtype: object"
      ]
     },
     "execution_count": 10,
     "metadata": {},
     "output_type": "execute_result"
    }
   ],
   "source": [
    "train_text.head()"
   ]
  },
  {
   "cell_type": "code",
   "execution_count": 11,
   "id": "03176b8c",
   "metadata": {
    "execution": {
     "iopub.execute_input": "2023-09-01T09:00:03.048094Z",
     "iopub.status.busy": "2023-09-01T09:00:03.047482Z",
     "iopub.status.idle": "2023-09-01T09:01:34.543816Z",
     "shell.execute_reply": "2023-09-01T09:01:34.542450Z"
    },
    "papermill": {
     "duration": 91.514874,
     "end_time": "2023-09-01T09:01:34.547293",
     "exception": false,
     "start_time": "2023-09-01T09:00:03.032419",
     "status": "completed"
    },
    "tags": []
   },
   "outputs": [],
   "source": [
    "import spacy\n",
    "\n",
    "# Load the spaCy English language model\n",
    "nlp = spacy.load(\"en_core_web_sm\")\n",
    "\n",
    "train_sequence = []\n",
    "\n",
    "for i in range(len(train_text)):\n",
    "    doc = nlp(train_text.iloc[i])\n",
    "    words = [token.lemma_ for token in doc if not token.is_stop]\n",
    "    sent = ' '.join(words)\n",
    "    train_sequence.append(sent)"
   ]
  },
  {
   "cell_type": "code",
   "execution_count": 12,
   "id": "d83ebb3b",
   "metadata": {
    "execution": {
     "iopub.execute_input": "2023-09-01T09:01:34.579409Z",
     "iopub.status.busy": "2023-09-01T09:01:34.578565Z",
     "iopub.status.idle": "2023-09-01T09:01:34.586761Z",
     "shell.execute_reply": "2023-09-01T09:01:34.585433Z"
    },
    "papermill": {
     "duration": 0.026819,
     "end_time": "2023-09-01T09:01:34.589787",
     "exception": false,
     "start_time": "2023-09-01T09:01:34.562968",
     "status": "completed"
    },
    "tags": []
   },
   "outputs": [
    {
     "data": {
      "text/plain": [
       "7613"
      ]
     },
     "execution_count": 12,
     "metadata": {},
     "output_type": "execute_result"
    }
   ],
   "source": [
    "len(train_sequence)"
   ]
  },
  {
   "cell_type": "code",
   "execution_count": 13,
   "id": "5a4308db",
   "metadata": {
    "execution": {
     "iopub.execute_input": "2023-09-01T09:01:34.622428Z",
     "iopub.status.busy": "2023-09-01T09:01:34.621911Z",
     "iopub.status.idle": "2023-09-01T09:01:34.630768Z",
     "shell.execute_reply": "2023-09-01T09:01:34.629251Z"
    },
    "papermill": {
     "duration": 0.02985,
     "end_time": "2023-09-01T09:01:34.634058",
     "exception": false,
     "start_time": "2023-09-01T09:01:34.604208",
     "status": "completed"
    },
    "tags": []
   },
   "outputs": [
    {
     "data": {
      "text/plain": [
       "'deed Reason # earthquake ALLAH forgive'"
      ]
     },
     "execution_count": 13,
     "metadata": {},
     "output_type": "execute_result"
    }
   ],
   "source": [
    "train_sequence[0]"
   ]
  },
  {
   "cell_type": "code",
   "execution_count": 14,
   "id": "7996d59a",
   "metadata": {
    "execution": {
     "iopub.execute_input": "2023-09-01T09:01:34.666984Z",
     "iopub.status.busy": "2023-09-01T09:01:34.665636Z",
     "iopub.status.idle": "2023-09-01T09:02:07.257769Z",
     "shell.execute_reply": "2023-09-01T09:02:07.256599Z"
    },
    "papermill": {
     "duration": 32.61313,
     "end_time": "2023-09-01T09:02:07.261896",
     "exception": false,
     "start_time": "2023-09-01T09:01:34.648766",
     "status": "completed"
    },
    "tags": []
   },
   "outputs": [],
   "source": [
    "test_sequence = []\n",
    "\n",
    "for i in range(len(test_text)):\n",
    "    doc = nlp(test_text.iloc[i])\n",
    "    words = [token.lemma_ for token in doc if not token.is_stop]\n",
    "    sent = ' '.join(words)\n",
    "    test_sequence.append(sent)"
   ]
  },
  {
   "cell_type": "code",
   "execution_count": 15,
   "id": "141d5ea4",
   "metadata": {
    "execution": {
     "iopub.execute_input": "2023-09-01T09:02:07.301584Z",
     "iopub.status.busy": "2023-09-01T09:02:07.301023Z",
     "iopub.status.idle": "2023-09-01T09:02:07.311462Z",
     "shell.execute_reply": "2023-09-01T09:02:07.309848Z"
    },
    "papermill": {
     "duration": 0.032489,
     "end_time": "2023-09-01T09:02:07.314453",
     "exception": false,
     "start_time": "2023-09-01T09:02:07.281964",
     "status": "completed"
    },
    "tags": []
   },
   "outputs": [
    {
     "data": {
      "text/plain": [
       "3263"
      ]
     },
     "execution_count": 15,
     "metadata": {},
     "output_type": "execute_result"
    }
   ],
   "source": [
    "len(test_sequence)"
   ]
  },
  {
   "cell_type": "code",
   "execution_count": 16,
   "id": "33dcf41c",
   "metadata": {
    "execution": {
     "iopub.execute_input": "2023-09-01T09:02:07.352695Z",
     "iopub.status.busy": "2023-09-01T09:02:07.351047Z",
     "iopub.status.idle": "2023-09-01T09:02:07.359187Z",
     "shell.execute_reply": "2023-09-01T09:02:07.357437Z"
    },
    "papermill": {
     "duration": 0.031599,
     "end_time": "2023-09-01T09:02:07.362317",
     "exception": false,
     "start_time": "2023-09-01T09:02:07.330718",
     "status": "completed"
    },
    "tags": []
   },
   "outputs": [],
   "source": [
    "from sklearn.feature_extraction.text import TfidfVectorizer\n"
   ]
  },
  {
   "cell_type": "code",
   "execution_count": 17,
   "id": "c6d32303",
   "metadata": {
    "execution": {
     "iopub.execute_input": "2023-09-01T09:02:07.398446Z",
     "iopub.status.busy": "2023-09-01T09:02:07.397871Z",
     "iopub.status.idle": "2023-09-01T09:02:07.404027Z",
     "shell.execute_reply": "2023-09-01T09:02:07.402918Z"
    },
    "papermill": {
     "duration": 0.026625,
     "end_time": "2023-09-01T09:02:07.406646",
     "exception": false,
     "start_time": "2023-09-01T09:02:07.380021",
     "status": "completed"
    },
    "tags": []
   },
   "outputs": [],
   "source": [
    "tfidf=TfidfVectorizer(min_df=2,ngram_range=(1,3),max_features=10000)\n"
   ]
  },
  {
   "cell_type": "code",
   "execution_count": 18,
   "id": "8f693112",
   "metadata": {
    "execution": {
     "iopub.execute_input": "2023-09-01T09:02:07.442021Z",
     "iopub.status.busy": "2023-09-01T09:02:07.441019Z",
     "iopub.status.idle": "2023-09-01T09:02:08.546083Z",
     "shell.execute_reply": "2023-09-01T09:02:08.544564Z"
    },
    "papermill": {
     "duration": 1.126593,
     "end_time": "2023-09-01T09:02:08.549262",
     "exception": false,
     "start_time": "2023-09-01T09:02:07.422669",
     "status": "completed"
    },
    "tags": []
   },
   "outputs": [],
   "source": [
    "vectorized_train=tfidf.fit_transform(train_sequence)\n"
   ]
  },
  {
   "cell_type": "code",
   "execution_count": 19,
   "id": "b94af9b9",
   "metadata": {
    "execution": {
     "iopub.execute_input": "2023-09-01T09:02:08.579898Z",
     "iopub.status.busy": "2023-09-01T09:02:08.579390Z",
     "iopub.status.idle": "2023-09-01T09:02:08.588455Z",
     "shell.execute_reply": "2023-09-01T09:02:08.586816Z"
    },
    "papermill": {
     "duration": 0.027536,
     "end_time": "2023-09-01T09:02:08.591125",
     "exception": false,
     "start_time": "2023-09-01T09:02:08.563589",
     "status": "completed"
    },
    "tags": []
   },
   "outputs": [
    {
     "data": {
      "text/plain": [
       "(7613, 10000)"
      ]
     },
     "execution_count": 19,
     "metadata": {},
     "output_type": "execute_result"
    }
   ],
   "source": [
    "vectorized_train.shape\n"
   ]
  },
  {
   "cell_type": "code",
   "execution_count": 20,
   "id": "78d0a368",
   "metadata": {
    "execution": {
     "iopub.execute_input": "2023-09-01T09:02:08.622919Z",
     "iopub.status.busy": "2023-09-01T09:02:08.622395Z",
     "iopub.status.idle": "2023-09-01T09:02:08.782724Z",
     "shell.execute_reply": "2023-09-01T09:02:08.781250Z"
    },
    "papermill": {
     "duration": 0.180283,
     "end_time": "2023-09-01T09:02:08.786301",
     "exception": false,
     "start_time": "2023-09-01T09:02:08.606018",
     "status": "completed"
    },
    "tags": []
   },
   "outputs": [],
   "source": [
    "vectorized_test=tfidf.transform(test_sequence)\n"
   ]
  },
  {
   "cell_type": "code",
   "execution_count": 21,
   "id": "aa5dbc6b",
   "metadata": {
    "execution": {
     "iopub.execute_input": "2023-09-01T09:02:08.820123Z",
     "iopub.status.busy": "2023-09-01T09:02:08.819690Z",
     "iopub.status.idle": "2023-09-01T09:02:08.828299Z",
     "shell.execute_reply": "2023-09-01T09:02:08.826745Z"
    },
    "papermill": {
     "duration": 0.028652,
     "end_time": "2023-09-01T09:02:08.831395",
     "exception": false,
     "start_time": "2023-09-01T09:02:08.802743",
     "status": "completed"
    },
    "tags": []
   },
   "outputs": [
    {
     "data": {
      "text/plain": [
       "(3263, 10000)"
      ]
     },
     "execution_count": 21,
     "metadata": {},
     "output_type": "execute_result"
    }
   ],
   "source": [
    "vectorized_test.shape\n"
   ]
  },
  {
   "cell_type": "code",
   "execution_count": 22,
   "id": "4c7de879",
   "metadata": {
    "execution": {
     "iopub.execute_input": "2023-09-01T09:02:08.866833Z",
     "iopub.status.busy": "2023-09-01T09:02:08.866431Z",
     "iopub.status.idle": "2023-09-01T09:02:09.311093Z",
     "shell.execute_reply": "2023-09-01T09:02:09.309617Z"
    },
    "papermill": {
     "duration": 0.466308,
     "end_time": "2023-09-01T09:02:09.314341",
     "exception": false,
     "start_time": "2023-09-01T09:02:08.848033",
     "status": "completed"
    },
    "tags": []
   },
   "outputs": [],
   "source": [
    "vectorized_train=vectorized_train.toarray()\n",
    "vectorized_test=vectorized_test.toarray()"
   ]
  },
  {
   "cell_type": "code",
   "execution_count": 23,
   "id": "72c7bcd4",
   "metadata": {
    "execution": {
     "iopub.execute_input": "2023-09-01T09:02:09.346175Z",
     "iopub.status.busy": "2023-09-01T09:02:09.345727Z",
     "iopub.status.idle": "2023-09-01T09:02:09.353421Z",
     "shell.execute_reply": "2023-09-01T09:02:09.352233Z"
    },
    "papermill": {
     "duration": 0.026531,
     "end_time": "2023-09-01T09:02:09.356159",
     "exception": false,
     "start_time": "2023-09-01T09:02:09.329628",
     "status": "completed"
    },
    "tags": []
   },
   "outputs": [
    {
     "data": {
      "text/plain": [
       "array([0., 0., 0., ..., 0., 0., 0.])"
      ]
     },
     "execution_count": 23,
     "metadata": {},
     "output_type": "execute_result"
    }
   ],
   "source": [
    "vectorized_train[0]\n"
   ]
  },
  {
   "cell_type": "code",
   "execution_count": 24,
   "id": "96f55f5a",
   "metadata": {
    "execution": {
     "iopub.execute_input": "2023-09-01T09:02:09.387742Z",
     "iopub.status.busy": "2023-09-01T09:02:09.387363Z",
     "iopub.status.idle": "2023-09-01T09:02:09.392378Z",
     "shell.execute_reply": "2023-09-01T09:02:09.391120Z"
    },
    "papermill": {
     "duration": 0.023738,
     "end_time": "2023-09-01T09:02:09.394681",
     "exception": false,
     "start_time": "2023-09-01T09:02:09.370943",
     "status": "completed"
    },
    "tags": []
   },
   "outputs": [],
   "source": [
    "from sklearn.linear_model import LogisticRegression\n"
   ]
  },
  {
   "cell_type": "code",
   "execution_count": 25,
   "id": "07ae84dd",
   "metadata": {
    "execution": {
     "iopub.execute_input": "2023-09-01T09:02:09.497355Z",
     "iopub.status.busy": "2023-09-01T09:02:09.496812Z",
     "iopub.status.idle": "2023-09-01T09:02:09.502718Z",
     "shell.execute_reply": "2023-09-01T09:02:09.501610Z"
    },
    "papermill": {
     "duration": 0.025225,
     "end_time": "2023-09-01T09:02:09.505078",
     "exception": false,
     "start_time": "2023-09-01T09:02:09.479853",
     "status": "completed"
    },
    "tags": []
   },
   "outputs": [],
   "source": [
    "from sklearn.model_selection import train_test_split\n"
   ]
  },
  {
   "cell_type": "code",
   "execution_count": 26,
   "id": "7f40887d",
   "metadata": {
    "execution": {
     "iopub.execute_input": "2023-09-01T09:02:09.541473Z",
     "iopub.status.busy": "2023-09-01T09:02:09.539823Z",
     "iopub.status.idle": "2023-09-01T09:02:10.011671Z",
     "shell.execute_reply": "2023-09-01T09:02:10.004100Z"
    },
    "papermill": {
     "duration": 0.49367,
     "end_time": "2023-09-01T09:02:10.015491",
     "exception": false,
     "start_time": "2023-09-01T09:02:09.521821",
     "status": "completed"
    },
    "tags": []
   },
   "outputs": [],
   "source": [
    "X_train, X_test, y_train, y_test = train_test_split(vectorized_train,y,test_size=0.2,random_state=0)\n"
   ]
  },
  {
   "cell_type": "code",
   "execution_count": 27,
   "id": "fecfb8ec",
   "metadata": {
    "execution": {
     "iopub.execute_input": "2023-09-01T09:02:10.054714Z",
     "iopub.status.busy": "2023-09-01T09:02:10.053831Z",
     "iopub.status.idle": "2023-09-01T09:02:10.060130Z",
     "shell.execute_reply": "2023-09-01T09:02:10.058728Z"
    },
    "papermill": {
     "duration": 0.029428,
     "end_time": "2023-09-01T09:02:10.063289",
     "exception": false,
     "start_time": "2023-09-01T09:02:10.033861",
     "status": "completed"
    },
    "tags": []
   },
   "outputs": [],
   "source": [
    "classifier=LogisticRegression(C=2)\n"
   ]
  },
  {
   "cell_type": "code",
   "execution_count": 28,
   "id": "093a1856",
   "metadata": {
    "execution": {
     "iopub.execute_input": "2023-09-01T09:02:10.099939Z",
     "iopub.status.busy": "2023-09-01T09:02:10.099523Z",
     "iopub.status.idle": "2023-09-01T09:02:19.424688Z",
     "shell.execute_reply": "2023-09-01T09:02:19.422256Z"
    },
    "papermill": {
     "duration": 9.34909,
     "end_time": "2023-09-01T09:02:19.429384",
     "exception": false,
     "start_time": "2023-09-01T09:02:10.080294",
     "status": "completed"
    },
    "tags": []
   },
   "outputs": [
    {
     "data": {
      "text/html": [
       "<style>#sk-container-id-1 {color: black;background-color: white;}#sk-container-id-1 pre{padding: 0;}#sk-container-id-1 div.sk-toggleable {background-color: white;}#sk-container-id-1 label.sk-toggleable__label {cursor: pointer;display: block;width: 100%;margin-bottom: 0;padding: 0.3em;box-sizing: border-box;text-align: center;}#sk-container-id-1 label.sk-toggleable__label-arrow:before {content: \"▸\";float: left;margin-right: 0.25em;color: #696969;}#sk-container-id-1 label.sk-toggleable__label-arrow:hover:before {color: black;}#sk-container-id-1 div.sk-estimator:hover label.sk-toggleable__label-arrow:before {color: black;}#sk-container-id-1 div.sk-toggleable__content {max-height: 0;max-width: 0;overflow: hidden;text-align: left;background-color: #f0f8ff;}#sk-container-id-1 div.sk-toggleable__content pre {margin: 0.2em;color: black;border-radius: 0.25em;background-color: #f0f8ff;}#sk-container-id-1 input.sk-toggleable__control:checked~div.sk-toggleable__content {max-height: 200px;max-width: 100%;overflow: auto;}#sk-container-id-1 input.sk-toggleable__control:checked~label.sk-toggleable__label-arrow:before {content: \"▾\";}#sk-container-id-1 div.sk-estimator input.sk-toggleable__control:checked~label.sk-toggleable__label {background-color: #d4ebff;}#sk-container-id-1 div.sk-label input.sk-toggleable__control:checked~label.sk-toggleable__label {background-color: #d4ebff;}#sk-container-id-1 input.sk-hidden--visually {border: 0;clip: rect(1px 1px 1px 1px);clip: rect(1px, 1px, 1px, 1px);height: 1px;margin: -1px;overflow: hidden;padding: 0;position: absolute;width: 1px;}#sk-container-id-1 div.sk-estimator {font-family: monospace;background-color: #f0f8ff;border: 1px dotted black;border-radius: 0.25em;box-sizing: border-box;margin-bottom: 0.5em;}#sk-container-id-1 div.sk-estimator:hover {background-color: #d4ebff;}#sk-container-id-1 div.sk-parallel-item::after {content: \"\";width: 100%;border-bottom: 1px solid gray;flex-grow: 1;}#sk-container-id-1 div.sk-label:hover label.sk-toggleable__label {background-color: #d4ebff;}#sk-container-id-1 div.sk-serial::before {content: \"\";position: absolute;border-left: 1px solid gray;box-sizing: border-box;top: 0;bottom: 0;left: 50%;z-index: 0;}#sk-container-id-1 div.sk-serial {display: flex;flex-direction: column;align-items: center;background-color: white;padding-right: 0.2em;padding-left: 0.2em;position: relative;}#sk-container-id-1 div.sk-item {position: relative;z-index: 1;}#sk-container-id-1 div.sk-parallel {display: flex;align-items: stretch;justify-content: center;background-color: white;position: relative;}#sk-container-id-1 div.sk-item::before, #sk-container-id-1 div.sk-parallel-item::before {content: \"\";position: absolute;border-left: 1px solid gray;box-sizing: border-box;top: 0;bottom: 0;left: 50%;z-index: -1;}#sk-container-id-1 div.sk-parallel-item {display: flex;flex-direction: column;z-index: 1;position: relative;background-color: white;}#sk-container-id-1 div.sk-parallel-item:first-child::after {align-self: flex-end;width: 50%;}#sk-container-id-1 div.sk-parallel-item:last-child::after {align-self: flex-start;width: 50%;}#sk-container-id-1 div.sk-parallel-item:only-child::after {width: 0;}#sk-container-id-1 div.sk-dashed-wrapped {border: 1px dashed gray;margin: 0 0.4em 0.5em 0.4em;box-sizing: border-box;padding-bottom: 0.4em;background-color: white;}#sk-container-id-1 div.sk-label label {font-family: monospace;font-weight: bold;display: inline-block;line-height: 1.2em;}#sk-container-id-1 div.sk-label-container {text-align: center;}#sk-container-id-1 div.sk-container {/* jupyter's `normalize.less` sets `[hidden] { display: none; }` but bootstrap.min.css set `[hidden] { display: none !important; }` so we also need the `!important` here to be able to override the default hidden behavior on the sphinx rendered scikit-learn.org. See: https://github.com/scikit-learn/scikit-learn/issues/21755 */display: inline-block !important;position: relative;}#sk-container-id-1 div.sk-text-repr-fallback {display: none;}</style><div id=\"sk-container-id-1\" class=\"sk-top-container\"><div class=\"sk-text-repr-fallback\"><pre>LogisticRegression(C=2)</pre><b>In a Jupyter environment, please rerun this cell to show the HTML representation or trust the notebook. <br />On GitHub, the HTML representation is unable to render, please try loading this page with nbviewer.org.</b></div><div class=\"sk-container\" hidden><div class=\"sk-item\"><div class=\"sk-estimator sk-toggleable\"><input class=\"sk-toggleable__control sk-hidden--visually\" id=\"sk-estimator-id-1\" type=\"checkbox\" checked><label for=\"sk-estimator-id-1\" class=\"sk-toggleable__label sk-toggleable__label-arrow\">LogisticRegression</label><div class=\"sk-toggleable__content\"><pre>LogisticRegression(C=2)</pre></div></div></div></div></div>"
      ],
      "text/plain": [
       "LogisticRegression(C=2)"
      ]
     },
     "execution_count": 28,
     "metadata": {},
     "output_type": "execute_result"
    }
   ],
   "source": [
    "classifier.fit(X_train,y_train)\n"
   ]
  },
  {
   "cell_type": "code",
   "execution_count": 29,
   "id": "fb0540bf",
   "metadata": {
    "execution": {
     "iopub.execute_input": "2023-09-01T09:02:19.530599Z",
     "iopub.status.busy": "2023-09-01T09:02:19.528877Z",
     "iopub.status.idle": "2023-09-01T09:02:19.569940Z",
     "shell.execute_reply": "2023-09-01T09:02:19.568602Z"
    },
    "papermill": {
     "duration": 0.069765,
     "end_time": "2023-09-01T09:02:19.574033",
     "exception": false,
     "start_time": "2023-09-01T09:02:19.504268",
     "status": "completed"
    },
    "tags": []
   },
   "outputs": [
    {
     "data": {
      "text/plain": [
       "0.8174655285620486"
      ]
     },
     "execution_count": 29,
     "metadata": {},
     "output_type": "execute_result"
    }
   ],
   "source": [
    "classifier.score(X_test,y_test)\n"
   ]
  },
  {
   "cell_type": "code",
   "execution_count": 30,
   "id": "c709e94d",
   "metadata": {
    "execution": {
     "iopub.execute_input": "2023-09-01T09:02:19.660295Z",
     "iopub.status.busy": "2023-09-01T09:02:19.659369Z",
     "iopub.status.idle": "2023-09-01T09:02:19.768781Z",
     "shell.execute_reply": "2023-09-01T09:02:19.766887Z"
    },
    "papermill": {
     "duration": 0.157684,
     "end_time": "2023-09-01T09:02:19.773880",
     "exception": false,
     "start_time": "2023-09-01T09:02:19.616196",
     "status": "completed"
    },
    "tags": []
   },
   "outputs": [],
   "source": [
    "y_pred=classifier.predict(vectorized_test)\n"
   ]
  },
  {
   "cell_type": "code",
   "execution_count": 31,
   "id": "c6f76063",
   "metadata": {
    "execution": {
     "iopub.execute_input": "2023-09-01T09:02:19.849076Z",
     "iopub.status.busy": "2023-09-01T09:02:19.847785Z",
     "iopub.status.idle": "2023-09-01T09:02:19.858338Z",
     "shell.execute_reply": "2023-09-01T09:02:19.856848Z"
    },
    "papermill": {
     "duration": 0.053419,
     "end_time": "2023-09-01T09:02:19.862499",
     "exception": false,
     "start_time": "2023-09-01T09:02:19.809080",
     "status": "completed"
    },
    "tags": []
   },
   "outputs": [],
   "source": [
    "id=test_data.id\n"
   ]
  },
  {
   "cell_type": "code",
   "execution_count": 32,
   "id": "5df720ed",
   "metadata": {
    "execution": {
     "iopub.execute_input": "2023-09-01T09:02:19.911321Z",
     "iopub.status.busy": "2023-09-01T09:02:19.910759Z",
     "iopub.status.idle": "2023-09-01T09:02:19.918528Z",
     "shell.execute_reply": "2023-09-01T09:02:19.917160Z"
    },
    "papermill": {
     "duration": 0.029956,
     "end_time": "2023-09-01T09:02:19.921344",
     "exception": false,
     "start_time": "2023-09-01T09:02:19.891388",
     "status": "completed"
    },
    "tags": []
   },
   "outputs": [],
   "source": [
    "output_df=pd.DataFrame({'id':id,\"target\":y_pred})\n"
   ]
  },
  {
   "cell_type": "code",
   "execution_count": 33,
   "id": "5deeab52",
   "metadata": {
    "execution": {
     "iopub.execute_input": "2023-09-01T09:02:19.958235Z",
     "iopub.status.busy": "2023-09-01T09:02:19.957815Z",
     "iopub.status.idle": "2023-09-01T09:02:19.975698Z",
     "shell.execute_reply": "2023-09-01T09:02:19.974402Z"
    },
    "papermill": {
     "duration": 0.040504,
     "end_time": "2023-09-01T09:02:19.979067",
     "exception": false,
     "start_time": "2023-09-01T09:02:19.938563",
     "status": "completed"
    },
    "tags": []
   },
   "outputs": [],
   "source": [
    "output_df.to_csv('submission.csv',index=False)\n"
   ]
  },
  {
   "cell_type": "code",
   "execution_count": 34,
   "id": "34e5ebc7",
   "metadata": {
    "execution": {
     "iopub.execute_input": "2023-09-01T09:02:20.024034Z",
     "iopub.status.busy": "2023-09-01T09:02:20.023574Z",
     "iopub.status.idle": "2023-09-01T09:02:20.033475Z",
     "shell.execute_reply": "2023-09-01T09:02:20.031788Z"
    },
    "papermill": {
     "duration": 0.040589,
     "end_time": "2023-09-01T09:02:20.036765",
     "exception": false,
     "start_time": "2023-09-01T09:02:19.996176",
     "status": "completed"
    },
    "tags": []
   },
   "outputs": [
    {
     "data": {
      "text/plain": [
       "id                                           0\n",
       "keyword                                    NaN\n",
       "location                                   NaN\n",
       "text        Just happened a terrible car crash\n",
       "Name: 0, dtype: object"
      ]
     },
     "execution_count": 34,
     "metadata": {},
     "output_type": "execute_result"
    }
   ],
   "source": [
    "test_data.iloc[0]\n"
   ]
  },
  {
   "cell_type": "code",
   "execution_count": 35,
   "id": "57b7dd55",
   "metadata": {
    "execution": {
     "iopub.execute_input": "2023-09-01T09:02:20.076431Z",
     "iopub.status.busy": "2023-09-01T09:02:20.075807Z",
     "iopub.status.idle": "2023-09-01T09:02:20.082433Z",
     "shell.execute_reply": "2023-09-01T09:02:20.081063Z"
    },
    "papermill": {
     "duration": 0.030408,
     "end_time": "2023-09-01T09:02:20.085360",
     "exception": false,
     "start_time": "2023-09-01T09:02:20.054952",
     "status": "completed"
    },
    "tags": []
   },
   "outputs": [],
   "source": [
    "import pickle\n"
   ]
  },
  {
   "cell_type": "code",
   "execution_count": 36,
   "id": "7d773dca",
   "metadata": {
    "execution": {
     "iopub.execute_input": "2023-09-01T09:02:20.121698Z",
     "iopub.status.busy": "2023-09-01T09:02:20.120620Z",
     "iopub.status.idle": "2023-09-01T09:02:20.127438Z",
     "shell.execute_reply": "2023-09-01T09:02:20.125841Z"
    },
    "papermill": {
     "duration": 0.027498,
     "end_time": "2023-09-01T09:02:20.130001",
     "exception": false,
     "start_time": "2023-09-01T09:02:20.102503",
     "status": "completed"
    },
    "tags": []
   },
   "outputs": [],
   "source": [
    "pickle.dump(classifier,open('disClassifier.pkl','wb'))\n"
   ]
  },
  {
   "cell_type": "code",
   "execution_count": 37,
   "id": "54e477d2",
   "metadata": {
    "execution": {
     "iopub.execute_input": "2023-09-01T09:02:20.166198Z",
     "iopub.status.busy": "2023-09-01T09:02:20.165684Z",
     "iopub.status.idle": "2023-09-01T09:02:20.276052Z",
     "shell.execute_reply": "2023-09-01T09:02:20.274346Z"
    },
    "papermill": {
     "duration": 0.132855,
     "end_time": "2023-09-01T09:02:20.279330",
     "exception": false,
     "start_time": "2023-09-01T09:02:20.146475",
     "status": "completed"
    },
    "tags": []
   },
   "outputs": [],
   "source": [
    "pickle.dump(tfidf,open('tfidf.pkl','wb'))\n"
   ]
  }
 ],
 "kernelspec": {
  "display_name": "Python 3",
  "language": "python",
  "name": "python3"
 },
 "language_info": {
  "codemirror_mode": {
   "name": "ipython",
   "version": 3
  },
  "file_extension": ".py",
  "mimetype": "text/x-python",
  "name": "python",
  "nbconvert_exporter": "python",
  "pygments_lexer": "ipython3",
  "version": "3.6.4"
 },
 "metadata": {
  "kernelspec": {
   "display_name": "Python 3",
   "language": "python",
   "name": "python3"
  },
  "language_info": {
   "codemirror_mode": {
    "name": "ipython",
    "version": 3
   },
   "file_extension": ".py",
   "mimetype": "text/x-python",
   "name": "python",
   "nbconvert_exporter": "python",
   "pygments_lexer": "ipython3",
   "version": "3.10.12"
  },
  "papermill": {
   "default_parameters": {},
   "duration": 148.511564,
   "end_time": "2023-09-01T09:02:23.165530",
   "environment_variables": {},
   "exception": null,
   "input_path": "__notebook__.ipynb",
   "output_path": "__notebook__.ipynb",
   "parameters": {},
   "start_time": "2023-09-01T08:59:54.653966",
   "version": "2.4.0"
  }
 },
 "nbformat": 4,
 "nbformat_minor": 5
}
